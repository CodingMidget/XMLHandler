{
 "cells": [
  {
   "cell_type": "code",
   "execution_count": null,
   "id": "d0ea7f5e-6b7f-49e1-93f3-918695b168a9",
   "metadata": {},
   "outputs": [],
   "source": [
    "import pandas as pd\n",
    "import xml.etree.ElementTree as ET\n",
    "import os"
   ]
  },
  {
   "cell_type": "code",
   "execution_count": null,
   "id": "4b43a3d1-0a7d-4c22-bf31-8e02ca7c3fab",
   "metadata": {},
   "outputs": [],
   "source": [
    "import xml.etree.ElementTree as ET\n",
    "import pandas as pd\n",
    "\n",
    "def extract_kill_info(file):\n",
    "    # Load and parse the XML file\n",
    "    tree = ET.parse(file)  # Adjust the path if your file is elsewhere\n",
    "    root = tree.getroot()\n",
    "    \n",
    "    # Prepare list to collect extracted data\n",
    "    data = []\n",
    "    \n",
    "    # Traverse each skill\n",
    "    for skill in root.findall(\".//imgdir[@name='skill']/imgdir\"):\n",
    "        skill_id = skill.attrib.get('name')  # Skill ID like 1100000\n",
    "        for level in skill.findall(\"imgdir[@name='level']/imgdir\"):\n",
    "            level_id = level.attrib.get('name')  # Level like 1, 2, 3, etc.\n",
    "            row = {\n",
    "                'skill_id': skill_id,\n",
    "                'level': level_id,\n",
    "                'mobCount': None,\n",
    "                'lt': None,\n",
    "                'rb': None,\n",
    "                'damage': None,\n",
    "                'mpCon': None,\n",
    "                'hpCon': None\n",
    "            }\n",
    "            # Extract relevant fields\n",
    "            for child in level:\n",
    "                tag_name = child.attrib['name']\n",
    "                if child.tag == 'int' and tag_name in row:\n",
    "                    row[tag_name] = child.attrib['value']\n",
    "                elif child.tag == 'vector' and tag_name in ['lt', 'rb']:\n",
    "                    coords = (child.attrib['x'], child.attrib['y'])\n",
    "                    row[tag_name] = str(coords)\n",
    "            data.append(row)\n",
    "    \n",
    "    # Convert to a pandas DataFrame\n",
    "    df = pd.DataFrame(data)\n",
    "    \n",
    "    # Display or export as needed\n",
    "    # print(df)\n",
    "    # df.to_excel(file[:-8] + \".xlsx\", index=False)  # Optional: save to Excel\n",
    "    print(f'Done for {file[:-8]}')\n",
    "    return df\n",
    "\n",
    "path = r\"D:\\MerogieMS\\wz\\Skill.wz\\\\\"\n",
    "directory = os.fsencode(path)\n",
    "df_list = []\n",
    "for file in os.listdir(directory):\n",
    "    filename = os.fsdecode(file)\n",
    "    if filename.endswith(\".xml\"): \n",
    "        df_list.append(extract_kill_info(path + filename))\n",
    "    else:\n",
    "        continue\n",
    "pd.concat(df_list).to_excel('Skill.xlsx')"
   ]
  },
  {
   "cell_type": "code",
   "execution_count": null,
   "id": "0b6e8822-1951-4280-9aa8-9fb4fe21fb15",
   "metadata": {},
   "outputs": [],
   "source": []
  }
 ],
 "metadata": {
  "kernelspec": {
   "display_name": "Python [conda env:base] *",
   "language": "python",
   "name": "conda-base-py"
  },
  "language_info": {
   "codemirror_mode": {
    "name": "ipython",
    "version": 3
   },
   "file_extension": ".py",
   "mimetype": "text/x-python",
   "name": "python",
   "nbconvert_exporter": "python",
   "pygments_lexer": "ipython3",
   "version": "3.12.7"
  }
 },
 "nbformat": 4,
 "nbformat_minor": 5
}
